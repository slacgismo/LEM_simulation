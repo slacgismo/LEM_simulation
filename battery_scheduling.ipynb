{
 "cells": [
  {
   "cell_type": "code",
   "execution_count": 1,
   "id": "90435de3",
   "metadata": {},
   "outputs": [],
   "source": [
    "import cvxpy as cp\n",
    "import numpy as np"
   ]
  },
  {
   "cell_type": "code",
   "execution_count": 62,
   "id": "d6b70337",
   "metadata": {},
   "outputs": [],
   "source": [
    "# Initialize price parameters\n",
    "prices = [0.]*3*12+[1.]*3*12\n",
    "T = len(prices)\n",
    "\n",
    "# Initialize variables\n",
    "SOC = cp.Variable((T+1,))\n",
    "x = cp.Variable((T,))\n",
    "\n",
    "# Initialize constraints\n",
    "constraints = [SOC[0]==2.]\n",
    "constraints += [SOC[T]==2.]\n",
    "for t in range(T):\n",
    "    constraints += [-1.<=x[t], x[t]<=1., 1.<=SOC[t], SOC[t]<=5., SOC[t+1]==SOC[t]+(x[t]/12)]\n",
    "\n",
    "# Objective function\n",
    "obj = cp.sum(cp.multiply(prices,-x))\n",
    "obj = cp.Maximize(obj)"
   ]
  },
  {
   "cell_type": "code",
   "execution_count": 63,
   "id": "f43c70ee",
   "metadata": {},
   "outputs": [
    {
     "data": {
      "text/plain": [
       "35.99999999657463"
      ]
     },
     "execution_count": 63,
     "metadata": {},
     "output_type": "execute_result"
    }
   ],
   "source": [
    "# Solve problem\n",
    "prob = cp.Problem(obj, constraints)\n",
    "prob.solve() #returns optimal value = prob.value"
   ]
  },
  {
   "cell_type": "code",
   "execution_count": 64,
   "id": "c3e5508f",
   "metadata": {},
   "outputs": [
    {
     "name": "stdout",
     "output_type": "stream",
     "text": [
      "status: optimal\n",
      "optimal value 35.99999999657463\n",
      "optimal soc [2.         2.08333333 2.16666667 2.25       2.33333333 2.41666667\n",
      " 2.5        2.58333333 2.66666667 2.75       2.83333333 2.91666667\n",
      " 3.         3.08333333 3.16666667 3.25       3.33333333 3.41666667\n",
      " 3.5        3.58333333 3.66666667 3.75       3.83333333 3.91666667\n",
      " 4.         4.08333333 4.16666667 4.25       4.33333333 4.41666667\n",
      " 4.5        4.58333333 4.66666667 4.75       4.83333333 4.91666667\n",
      " 5.         4.91666667 4.83333333 4.75       4.66666667 4.58333333\n",
      " 4.5        4.41666667 4.33333333 4.25       4.16666667 4.08333333\n",
      " 4.         3.91666667 3.83333333 3.75       3.66666667 3.58333333\n",
      " 3.5        3.41666667 3.33333333 3.25       3.16666667 3.08333333\n",
      " 3.         2.91666667 2.83333333 2.75       2.66666667 2.58333333\n",
      " 2.5        2.41666667 2.33333333 2.25       2.16666667 2.08333333\n",
      " 2.        ]\n",
      "optimal var [ 1.  1.  1.  1.  1.  1.  1.  1.  1.  1.  1.  1.  1.  1.  1.  1.  1.  1.\n",
      "  1.  1.  1.  1.  1.  1.  1.  1.  1.  1.  1.  1.  1.  1.  1.  1.  1.  1.\n",
      " -1. -1. -1. -1. -1. -1. -1. -1. -1. -1. -1. -1. -1. -1. -1. -1. -1. -1.\n",
      " -1. -1. -1. -1. -1. -1. -1. -1. -1. -1. -1. -1. -1. -1. -1. -1. -1. -1.]\n"
     ]
    }
   ],
   "source": [
    "# Print output and solution characteristics\n",
    "print(\"status:\", prob.status)\n",
    "print(\"optimal value\", prob.value)\n",
    "print(\"optimal soc\", SOC.value)\n",
    "print(\"optimal var\", x.value)"
   ]
  },
  {
   "cell_type": "code",
   "execution_count": null,
   "id": "86e2ed8a",
   "metadata": {},
   "outputs": [],
   "source": []
  },
  {
   "cell_type": "code",
   "execution_count": null,
   "id": "be74b2d7",
   "metadata": {},
   "outputs": [],
   "source": []
  }
 ],
 "metadata": {
  "kernelspec": {
   "display_name": "venv_market_simulation",
   "language": "python",
   "name": "venv_market_simulation"
  },
  "language_info": {
   "codemirror_mode": {
    "name": "ipython",
    "version": 3
   },
   "file_extension": ".py",
   "mimetype": "text/x-python",
   "name": "python",
   "nbconvert_exporter": "python",
   "pygments_lexer": "ipython3",
   "version": "3.9.5"
  }
 },
 "nbformat": 4,
 "nbformat_minor": 5
}
