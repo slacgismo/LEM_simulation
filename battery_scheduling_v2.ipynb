{
 "cells": [
  {
   "cell_type": "code",
   "execution_count": 4,
   "id": "90435de3",
   "metadata": {},
   "outputs": [],
   "source": [
    "import cvxpy as cp\n",
    "import numpy as np\n",
    "import pandas as pd\n",
    "import random as rd\n",
    "import datetime\n",
    "import matplotlib.pyplot as plt\n",
    "import matplotlib.dates as mdates"
   ]
  },
  {
   "cell_type": "code",
   "execution_count": 5,
   "id": "9f16a995",
   "metadata": {},
   "outputs": [
    {
     "data": {
      "text/html": [
       "<div>\n",
       "<style scoped>\n",
       "    .dataframe tbody tr th:only-of-type {\n",
       "        vertical-align: middle;\n",
       "    }\n",
       "\n",
       "    .dataframe tbody tr th {\n",
       "        vertical-align: top;\n",
       "    }\n",
       "\n",
       "    .dataframe thead th {\n",
       "        text-align: right;\n",
       "    }\n",
       "</style>\n",
       "<table border=\"1\" class=\"dataframe\">\n",
       "  <thead>\n",
       "    <tr style=\"text-align: right;\">\n",
       "      <th></th>\n",
       "      <th>DA</th>\n",
       "      <th>RT</th>\n",
       "    </tr>\n",
       "  </thead>\n",
       "  <tbody>\n",
       "    <tr>\n",
       "      <th>2016-01-01 00:00:00</th>\n",
       "      <td>18.22</td>\n",
       "      <td>15.48</td>\n",
       "    </tr>\n",
       "    <tr>\n",
       "      <th>2016-01-01 00:05:00</th>\n",
       "      <td>18.22</td>\n",
       "      <td>15.48</td>\n",
       "    </tr>\n",
       "    <tr>\n",
       "      <th>2016-01-01 00:10:00</th>\n",
       "      <td>18.22</td>\n",
       "      <td>15.48</td>\n",
       "    </tr>\n",
       "    <tr>\n",
       "      <th>2016-01-01 00:15:00</th>\n",
       "      <td>18.22</td>\n",
       "      <td>15.33</td>\n",
       "    </tr>\n",
       "    <tr>\n",
       "      <th>2016-01-01 00:20:00</th>\n",
       "      <td>18.22</td>\n",
       "      <td>15.33</td>\n",
       "    </tr>\n",
       "  </tbody>\n",
       "</table>\n",
       "</div>"
      ],
      "text/plain": [
       "                        DA     RT\n",
       "2016-01-01 00:00:00  18.22  15.48\n",
       "2016-01-01 00:05:00  18.22  15.48\n",
       "2016-01-01 00:10:00  18.22  15.48\n",
       "2016-01-01 00:15:00  18.22  15.33\n",
       "2016-01-01 00:20:00  18.22  15.33"
      ]
     },
     "execution_count": 5,
     "metadata": {},
     "output_type": "execute_result"
    }
   ],
   "source": [
    "df_WS = pd.read_csv('glm_generation_Austin/Ercot_LZ_SOUTH.csv',parse_dates=True,index_col=[0]) # For year 2016\n",
    "df_WS.head()"
   ]
  },
  {
   "cell_type": "code",
   "execution_count": 6,
   "id": "60efa721",
   "metadata": {},
   "outputs": [
    {
     "name": "stdout",
     "output_type": "stream",
     "text": [
      "1741\n"
     ]
    }
   ],
   "source": [
    "start = datetime.datetime( 2016, 7, 1)\n",
    "end = datetime.datetime( 2016, 7, 7, 1, 0)\n",
    "interval = 300 # interval of market operation\n",
    "market_intervals = pd.date_range(start,end,freq=str(int(interval/60))+'min')\n",
    "market_intervals #the first hour in 5 minute increments\n",
    "index = len(market_intervals)\n",
    "print(len(market_intervals))"
   ]
  },
  {
   "cell_type": "code",
   "execution_count": 7,
   "id": "a32518c3",
   "metadata": {},
   "outputs": [
    {
     "name": "stdout",
     "output_type": "stream",
     "text": [
      "2016-01-01 00:00:00    15.48\n",
      "2016-01-01 00:05:00    15.48\n",
      "2016-01-01 00:10:00    15.48\n",
      "2016-01-01 00:15:00    15.33\n",
      "2016-01-01 00:20:00    15.33\n",
      "                       ...  \n",
      "2016-01-06 22:15:00    19.68\n",
      "2016-01-06 22:20:00    19.68\n",
      "2016-01-06 22:25:00    19.68\n",
      "2016-01-06 22:30:00    19.13\n",
      "2016-01-06 22:35:00    19.13\n",
      "Name: RT, Length: 1741, dtype: float64\n"
     ]
    },
    {
     "data": {
      "text/plain": [
       "[0,\n",
       " 0,\n",
       " 0,\n",
       " 0,\n",
       " 0,\n",
       " 0,\n",
       " 0,\n",
       " 0,\n",
       " 0,\n",
       " 0,\n",
       " 0,\n",
       " 0,\n",
       " 0,\n",
       " 0,\n",
       " 0,\n",
       " 0,\n",
       " 0,\n",
       " 0,\n",
       " 0,\n",
       " 0,\n",
       " 0,\n",
       " 0,\n",
       " 0,\n",
       " 0,\n",
       " 0,\n",
       " 0,\n",
       " 0,\n",
       " 0,\n",
       " 0,\n",
       " 0,\n",
       " 0,\n",
       " 0,\n",
       " 0,\n",
       " 0,\n",
       " 0,\n",
       " 0,\n",
       " 0,\n",
       " 0,\n",
       " 0,\n",
       " 0,\n",
       " 0,\n",
       " 0,\n",
       " 0,\n",
       " 0,\n",
       " 0,\n",
       " 0,\n",
       " 0,\n",
       " 0,\n",
       " 1,\n",
       " 1,\n",
       " 1,\n",
       " 1,\n",
       " 1,\n",
       " 1,\n",
       " 1,\n",
       " 1,\n",
       " 1,\n",
       " 1,\n",
       " 1,\n",
       " 1,\n",
       " 1,\n",
       " 1,\n",
       " 1,\n",
       " 1,\n",
       " 1,\n",
       " 1,\n",
       " 1,\n",
       " 1,\n",
       " 1,\n",
       " 1,\n",
       " 1,\n",
       " 1,\n",
       " 1,\n",
       " 1,\n",
       " 1,\n",
       " 1,\n",
       " 1,\n",
       " 1,\n",
       " 1,\n",
       " 1,\n",
       " 1,\n",
       " 1,\n",
       " 1,\n",
       " 1,\n",
       " 1,\n",
       " 1,\n",
       " 1,\n",
       " 1,\n",
       " 1,\n",
       " 1,\n",
       " 1,\n",
       " 1,\n",
       " 1,\n",
       " 1,\n",
       " 1,\n",
       " 1]"
      ]
     },
     "execution_count": 7,
     "metadata": {},
     "output_type": "execute_result"
    }
   ],
   "source": [
    "RT = df_WS['RT']\n",
    "prices = df_WS.RT[0:index]\n",
    "print(prices)\n",
    "#print(len(prices))\n",
    "prices = [0]*48+[1]*48\n",
    "prices"
   ]
  },
  {
   "cell_type": "code",
   "execution_count": 48,
   "id": "d6b70337",
   "metadata": {},
   "outputs": [],
   "source": [
    "# Initialize price parameters\n",
    "#prices = list(range(10,22))\n",
    "T = len(prices)\n",
    "\n",
    "#48 intervals of lower, and 48 intervals of higher price\n",
    "\n",
    "# Initialize variables\n",
    "SOC = cp.Variable((T+1,))\n",
    "x = cp.Variable((T,))\n",
    "profit = cp.Variable(1,)\n",
    "\n",
    "# Initialize constraints\n",
    "constraints = [(SOC[0]==2), (SOC[T]==2), profit == sum([p*xt for p,xt in zip(prices,x)])]\n",
    "for t in range(T):\n",
    "    constraints += [(-1<=x[t]), (x[t]<=1), 1<=SOC[t], SOC[t]<=5, SOC[t+1]==1*SOC[t]+x[t]/12.]\n",
    "\n",
    "# Objective function\n",
    "#obj = cp.sum(prices*x)\n",
    "obj = cp.sum(profit)\n",
    "#obj = cp.sum(cp.multiply(prices,x))\n",
    "obj = cp.Maximize(obj)"
   ]
  },
  {
   "cell_type": "code",
   "execution_count": 49,
   "id": "f43c70ee",
   "metadata": {
    "scrolled": true
   },
   "outputs": [
    {
     "name": "stdout",
     "output_type": "stream",
     "text": [
      "0.9999999999902912\n"
     ]
    }
   ],
   "source": [
    "# Solve problem\n",
    "prob = cp.Problem(obj, constraints)\n",
    "profits = (prob.solve())/12 #returns optimal value = prob.value\n",
    "print(profits)"
   ]
  },
  {
   "cell_type": "code",
   "execution_count": 51,
   "id": "ae60c03c",
   "metadata": {},
   "outputs": [
    {
     "name": "stdout",
     "output_type": "stream",
     "text": [
      "[2.         2.04937621 2.09474687 2.13593706 2.17295625 2.20589573\n",
      " 2.23488211 2.26005477 2.28155442 2.29951705 2.31407081 2.32533425\n",
      " 2.33341561 2.33841252 2.3404121  2.33949133 2.33571754 2.32914915\n",
      " 2.31983645 2.30782266 2.29314501 2.27583598 2.25592477 2.23343877\n",
      " 2.20840524 2.18085303 2.15081434 2.11832651 2.08343368 2.04618831\n",
      " 2.00665238 1.96489829 1.92100918 1.87507864 1.82720969 1.77751296\n",
      " 1.72610396 1.67309949 1.6186133  1.56275107 1.50560492 1.44724737\n",
      " 1.38772352 1.3270373  1.26512207 1.20178907 1.13668895 1.06936376\n",
      " 1.         1.06936374 1.13668891 1.20178899 1.26512194 1.3270371\n",
      " 1.38772324 1.44724701 1.50560447 1.56275051 1.61861264 1.67309873\n",
      " 1.72610309 1.777512   1.82720864 1.87507751 1.92100798 1.96489703\n",
      " 2.00665107 2.04618696 2.08343231 2.11832513 2.15081296 2.18085165\n",
      " 2.20840388 2.23343743 2.25592346 2.27583471 2.29314377 2.30782148\n",
      " 2.31983531 2.32914806 2.33571651 2.33949035 2.34041118 2.33841165\n",
      " 2.33341481 2.32533351 2.31407013 2.29951643 2.28155386 2.26005428\n",
      " 2.23488168 2.20589537 2.17295596 2.13593684 2.09474672 2.04937613\n",
      " 2.        ]\n"
     ]
    }
   ],
   "source": [
    "SOC_values = SOC.value\n",
    "print(SOC_values)"
   ]
  },
  {
   "cell_type": "code",
   "execution_count": 56,
   "id": "c3e5508f",
   "metadata": {},
   "outputs": [
    {
     "name": "stdout",
     "output_type": "stream",
     "text": [
      "status: optimal\n",
      "optimal value 11.999999999883494\n",
      "optimal var [ 0.59251456  0.5444479   0.49428226  0.44423024  0.39527375  0.34783656\n",
      "  0.30207195  0.25799575  0.21555166  0.17464506  0.13516131  0.09697631\n",
      "  0.05996289  0.02399502 -0.01104925 -0.04528545 -0.07882078 -0.11175235\n",
      " -0.14416545 -0.17613188 -0.2077083  -0.23893452 -0.26983197 -0.30040235\n",
      " -0.33062657 -0.36046427 -0.38985395 -0.41871394 -0.44694452 -0.47443112\n",
      " -0.50104901 -0.52666932 -0.55116654 -0.5744274  -0.59636075 -0.61690802\n",
      " -0.6360536  -0.65383428 -0.6703468  -0.68575377 -0.7002906  -0.71428627\n",
      " -0.72823461 -0.74298276 -0.759996   -0.78120139 -0.80790235 -0.83236508\n",
      "  0.83236486  0.80790204  0.78120094  0.75999538  0.74298198  0.72823369\n",
      "  0.71428523  0.70028946  0.68575256  0.67034556  0.65383303  0.63605238\n",
      "  0.61690686  0.59635968  0.57442644  0.55116569  0.52666861  0.50104844\n",
      "  0.47443069  0.44694423  0.41871379  0.38985392  0.36046436  0.33062676\n",
      "  0.30040263  0.26983234  0.23893495  0.2077088   0.17613242  0.14416603\n",
      "  0.11175296  0.07882143  0.04528611  0.01104993 -0.02399432 -0.05996218\n",
      " -0.09697558 -0.13516057 -0.17464431 -0.21555089 -0.25799497 -0.30207116\n",
      " -0.34783575 -0.39527293 -0.44422942 -0.49428143 -0.54444706 -0.59251361]\n",
      "var13507\n"
     ]
    }
   ],
   "source": [
    "# Print output and solution characteristics\n",
    "\n",
    "print(\"status:\", prob.status)\n",
    "print(\"optimal value\", prob.value)\n",
    "print(\"optimal var\", x.value)\n",
    "print(x)\n",
    "\n",
    "# is it ok that the x array contains values other than -1, 0, 1?\n",
    "#for the test, first half is positive because charging, and second half is discharging"
   ]
  },
  {
   "cell_type": "code",
   "execution_count": 55,
   "id": "82b6c7bb",
   "metadata": {},
   "outputs": [
    {
     "name": "stdout",
     "output_type": "stream",
     "text": [
      "[ 0.59251456  0.5444479   0.49428226  0.44423024  0.39527375  0.34783656\n",
      "  0.30207195  0.25799575  0.21555166  0.17464506  0.13516131  0.09697631\n",
      "  0.05996289  0.02399502 -0.01104925 -0.04528545 -0.07882078 -0.11175235\n",
      " -0.14416545 -0.17613188 -0.2077083  -0.23893452 -0.26983197 -0.30040235\n",
      " -0.33062657 -0.36046427 -0.38985395 -0.41871394 -0.44694452 -0.47443112\n",
      " -0.50104901 -0.52666932 -0.55116654 -0.5744274  -0.59636075 -0.61690802\n",
      " -0.6360536  -0.65383428 -0.6703468  -0.68575377 -0.7002906  -0.71428627\n",
      " -0.72823461 -0.74298276 -0.759996   -0.78120139 -0.80790235 -0.83236508\n",
      "  0.83236486  0.80790204  0.78120094  0.75999538  0.74298198  0.72823369\n",
      "  0.71428523  0.70028946  0.68575256  0.67034556  0.65383303  0.63605238\n",
      "  0.61690686  0.59635968  0.57442644  0.55116569  0.52666861  0.50104844\n",
      "  0.47443069  0.44694423  0.41871379  0.38985392  0.36046436  0.33062676\n",
      "  0.30040263  0.26983234  0.23893495  0.2077088   0.17613242  0.14416603\n",
      "  0.11175296  0.07882143  0.04528611  0.01104993 -0.02399432 -0.05996218\n",
      " -0.09697558 -0.13516057 -0.17464431 -0.21555089 -0.25799497 -0.30207116\n",
      " -0.34783575 -0.39527293 -0.44422942 -0.49428143 -0.54444706 -0.59251361]\n"
     ]
    }
   ],
   "source": [
    "x_values = x.value\n",
    "print(x_values)"
   ]
  },
  {
   "cell_type": "code",
   "execution_count": 27,
   "id": "68339363",
   "metadata": {},
   "outputs": [],
   "source": [
    "Pd = 0\n",
    "Qd = x_values[0]\n",
    "SOC = 2\n",
    "df_store = pd.DataFrame(columns=['timestamp', 'RT', 'SOC_t', 'dispatch'])"
   ]
  },
  {
   "cell_type": "code",
   "execution_count": 28,
   "id": "68d37435",
   "metadata": {},
   "outputs": [
    {
     "data": {
      "text/plain": [
       "96"
      ]
     },
     "execution_count": 28,
     "metadata": {},
     "output_type": "execute_result"
    }
   ],
   "source": [
    "len(x_values)"
   ]
  },
  {
   "cell_type": "code",
   "execution_count": 29,
   "id": "a70ecf6f",
   "metadata": {},
   "outputs": [
    {
     "data": {
      "text/plain": [
       "array([ 0.59251463,  0.54444795,  0.49428228,  0.44423025,  0.39527374,\n",
       "        0.34783655,  0.30207193,  0.25799571,  0.21555162,  0.17464501,\n",
       "        0.13516126,  0.09697626,  0.05996284,  0.02399497, -0.0110493 ,\n",
       "       -0.0452855 , -0.07882083, -0.1117524 , -0.14416549, -0.17613193,\n",
       "       -0.20770835, -0.23893456, -0.26983201, -0.30040238, -0.3306266 ,\n",
       "       -0.3604643 , -0.38985397, -0.41871396, -0.44694453, -0.47443113,\n",
       "       -0.50104902, -0.52666932, -0.55116654, -0.5744274 , -0.59636074,\n",
       "       -0.616908  , -0.63605358, -0.65383425, -0.67034678, -0.68575373,\n",
       "       -0.70029055, -0.71428622, -0.72823455, -0.74298269, -0.75999592,\n",
       "       -0.78120129, -0.80790222, -0.83236492,  0.8323647 ,  0.80790191,\n",
       "        0.78120083,  0.7599953 ,  0.74298191,  0.72823363,  0.71428518,\n",
       "        0.70028941,  0.68575253,  0.67034553,  0.65383301,  0.63605237,\n",
       "        0.61690685,  0.59635967,  0.57442644,  0.5511657 ,  0.52666861,\n",
       "        0.50104845,  0.47443071,  0.44694424,  0.41871381,  0.38985394,\n",
       "        0.36046438,  0.33062679,  0.30040266,  0.26983237,  0.238935  ,\n",
       "        0.20770884,  0.17613247,  0.14416608,  0.11175301,  0.07882147,\n",
       "        0.04528616,  0.01104998, -0.02399427, -0.05996213, -0.09697553,\n",
       "       -0.13516052, -0.17464427, -0.21555086, -0.25799494, -0.30207113,\n",
       "       -0.34783573, -0.39527292, -0.44422942, -0.49428145, -0.5444471 ,\n",
       "       -0.59251367])"
      ]
     },
     "execution_count": 29,
     "metadata": {},
     "output_type": "execute_result"
    }
   ],
   "source": [
    "(x_values)"
   ]
  },
  {
   "cell_type": "code",
   "execution_count": 30,
   "id": "b725790b",
   "metadata": {},
   "outputs": [
    {
     "data": {
      "text/plain": [
       "96"
      ]
     },
     "execution_count": 30,
     "metadata": {},
     "output_type": "execute_result"
    }
   ],
   "source": [
    "\n",
    "first_element=[0]\n",
    "SOC_values_final = np.delete(SOC_values, first_element)\n",
    "SOC_values_final.size\n"
   ]
  },
  {
   "cell_type": "code",
   "execution_count": 31,
   "id": "fe452a0a",
   "metadata": {},
   "outputs": [],
   "source": [
    "df_WS = df_WS[~df_WS.index.duplicated(keep='last')]\n",
    "df_WS_restricted = df_WS.loc[market_intervals]"
   ]
  },
  {
   "cell_type": "code",
   "execution_count": 35,
   "id": "37f9b79f",
   "metadata": {},
   "outputs": [
    {
     "data": {
      "text/html": [
       "<div>\n",
       "<style scoped>\n",
       "    .dataframe tbody tr th:only-of-type {\n",
       "        vertical-align: middle;\n",
       "    }\n",
       "\n",
       "    .dataframe tbody tr th {\n",
       "        vertical-align: top;\n",
       "    }\n",
       "\n",
       "    .dataframe thead th {\n",
       "        text-align: right;\n",
       "    }\n",
       "</style>\n",
       "<table border=\"1\" class=\"dataframe\">\n",
       "  <thead>\n",
       "    <tr style=\"text-align: right;\">\n",
       "      <th></th>\n",
       "      <th>timestamp</th>\n",
       "      <th>RT</th>\n",
       "      <th>SOC_t</th>\n",
       "      <th>dispatch</th>\n",
       "    </tr>\n",
       "  </thead>\n",
       "  <tbody>\n",
       "    <tr>\n",
       "      <th>0</th>\n",
       "      <td>0</td>\n",
       "      <td>0</td>\n",
       "      <td>2.049376</td>\n",
       "      <td>0.592515</td>\n",
       "    </tr>\n",
       "    <tr>\n",
       "      <th>1</th>\n",
       "      <td>1</td>\n",
       "      <td>0</td>\n",
       "      <td>2.094747</td>\n",
       "      <td>0.544448</td>\n",
       "    </tr>\n",
       "    <tr>\n",
       "      <th>2</th>\n",
       "      <td>2</td>\n",
       "      <td>0</td>\n",
       "      <td>2.135937</td>\n",
       "      <td>0.494282</td>\n",
       "    </tr>\n",
       "    <tr>\n",
       "      <th>3</th>\n",
       "      <td>3</td>\n",
       "      <td>0</td>\n",
       "      <td>2.172956</td>\n",
       "      <td>0.444230</td>\n",
       "    </tr>\n",
       "    <tr>\n",
       "      <th>4</th>\n",
       "      <td>4</td>\n",
       "      <td>0</td>\n",
       "      <td>2.205896</td>\n",
       "      <td>0.395274</td>\n",
       "    </tr>\n",
       "    <tr>\n",
       "      <th>...</th>\n",
       "      <td>...</td>\n",
       "      <td>...</td>\n",
       "      <td>...</td>\n",
       "      <td>...</td>\n",
       "    </tr>\n",
       "    <tr>\n",
       "      <th>91</th>\n",
       "      <td>91</td>\n",
       "      <td>1</td>\n",
       "      <td>2.172956</td>\n",
       "      <td>-0.395273</td>\n",
       "    </tr>\n",
       "    <tr>\n",
       "      <th>92</th>\n",
       "      <td>92</td>\n",
       "      <td>1</td>\n",
       "      <td>2.135937</td>\n",
       "      <td>-0.444229</td>\n",
       "    </tr>\n",
       "    <tr>\n",
       "      <th>93</th>\n",
       "      <td>93</td>\n",
       "      <td>1</td>\n",
       "      <td>2.094747</td>\n",
       "      <td>-0.494281</td>\n",
       "    </tr>\n",
       "    <tr>\n",
       "      <th>94</th>\n",
       "      <td>94</td>\n",
       "      <td>1</td>\n",
       "      <td>2.049376</td>\n",
       "      <td>-0.544447</td>\n",
       "    </tr>\n",
       "    <tr>\n",
       "      <th>95</th>\n",
       "      <td>95</td>\n",
       "      <td>1</td>\n",
       "      <td>2.000000</td>\n",
       "      <td>-0.592514</td>\n",
       "    </tr>\n",
       "  </tbody>\n",
       "</table>\n",
       "<p>96 rows × 4 columns</p>\n",
       "</div>"
      ],
      "text/plain": [
       "    timestamp  RT     SOC_t  dispatch\n",
       "0           0   0  2.049376  0.592515\n",
       "1           1   0  2.094747  0.544448\n",
       "2           2   0  2.135937  0.494282\n",
       "3           3   0  2.172956  0.444230\n",
       "4           4   0  2.205896  0.395274\n",
       "..        ...  ..       ...       ...\n",
       "91         91   1  2.172956 -0.395273\n",
       "92         92   1  2.135937 -0.444229\n",
       "93         93   1  2.094747 -0.494281\n",
       "94         94   1  2.049376 -0.544447\n",
       "95         95   1  2.000000 -0.592514\n",
       "\n",
       "[96 rows x 4 columns]"
      ]
     },
     "execution_count": 35,
     "metadata": {},
     "output_type": "execute_result"
    }
   ],
   "source": [
    "#df_store['timestamp'] = df_WS_restricted.index\n",
    "#df_store['RT'] = df_store.timestamp.map(df_WS_restricted['RT'].to_dict())\n",
    "df_store['timestamp'] = range(len(prices))\n",
    "df_store['RT'] = prices\n",
    "df_store['SOC_t'] = SOC_values_final\n",
    "df_store['dispatch'] = x_values\n",
    "\n",
    "# df_store.loc[df_store.duplicated(subset='timestamp')]\n",
    "\n",
    "#df_store.drop_duplicates(subset='timestamp', keep='last', inplace=True)\n",
    "#get df_store to be same size as x_values and SOC_values\n",
    "#directly write this array to dataframe column\n",
    "df_store"
   ]
  },
  {
   "cell_type": "code",
   "execution_count": 36,
   "id": "055a6404",
   "metadata": {
    "scrolled": true
   },
   "outputs": [
    {
     "ename": "IndexError",
     "evalue": "single positional indexer is out-of-bounds",
     "output_type": "error",
     "traceback": [
      "\u001b[1;31m---------------------------------------------------------------------------\u001b[0m",
      "\u001b[1;31mIndexError\u001b[0m                                Traceback (most recent call last)",
      "\u001b[1;32m<ipython-input-36-eb6dcf0a7a79>\u001b[0m in \u001b[0;36m<module>\u001b[1;34m\u001b[0m\n\u001b[0;32m      1\u001b[0m \u001b[1;31m#find when SOC reaches max value\u001b[0m\u001b[1;33m\u001b[0m\u001b[1;33m\u001b[0m\u001b[1;33m\u001b[0m\u001b[0m\n\u001b[0;32m      2\u001b[0m \u001b[1;31m#do not use\u001b[0m\u001b[1;33m\u001b[0m\u001b[1;33m\u001b[0m\u001b[1;33m\u001b[0m\u001b[0m\n\u001b[1;32m----> 3\u001b[1;33m \u001b[0mmax_timestamp\u001b[0m \u001b[1;33m=\u001b[0m \u001b[0mdf_store\u001b[0m\u001b[1;33m.\u001b[0m\u001b[0mloc\u001b[0m\u001b[1;33m[\u001b[0m\u001b[0mdf_store\u001b[0m\u001b[1;33m.\u001b[0m\u001b[0mSOC_t\u001b[0m \u001b[1;33m>=\u001b[0m \u001b[1;36m4.99\u001b[0m\u001b[1;33m,\u001b[0m \u001b[1;34m'timestamp'\u001b[0m\u001b[1;33m]\u001b[0m\u001b[1;33m.\u001b[0m\u001b[0miloc\u001b[0m\u001b[1;33m[\u001b[0m\u001b[1;36m0\u001b[0m\u001b[1;33m]\u001b[0m\u001b[1;33m\u001b[0m\u001b[1;33m\u001b[0m\u001b[0m\n\u001b[0m\u001b[0;32m      4\u001b[0m \u001b[0mmin_timestamp\u001b[0m \u001b[1;33m=\u001b[0m \u001b[0mdf_store\u001b[0m\u001b[1;33m.\u001b[0m\u001b[0mloc\u001b[0m\u001b[1;33m[\u001b[0m\u001b[0mdf_store\u001b[0m\u001b[1;33m.\u001b[0m\u001b[0mSOC_t\u001b[0m \u001b[1;33m<=\u001b[0m \u001b[1;36m1.01\u001b[0m\u001b[1;33m,\u001b[0m \u001b[1;34m'timestamp'\u001b[0m\u001b[1;33m]\u001b[0m\u001b[1;33m.\u001b[0m\u001b[0miloc\u001b[0m\u001b[1;33m[\u001b[0m\u001b[1;36m0\u001b[0m\u001b[1;33m]\u001b[0m\u001b[1;33m\u001b[0m\u001b[1;33m\u001b[0m\u001b[0m\n\u001b[0;32m      5\u001b[0m \u001b[0mprint\u001b[0m\u001b[1;33m(\u001b[0m\u001b[0mmax_timestamp\u001b[0m\u001b[1;33m)\u001b[0m\u001b[1;33m\u001b[0m\u001b[1;33m\u001b[0m\u001b[0m\n",
      "\u001b[1;32m~\\anaconda3\\lib\\site-packages\\pandas\\core\\indexing.py\u001b[0m in \u001b[0;36m__getitem__\u001b[1;34m(self, key)\u001b[0m\n\u001b[0;32m    893\u001b[0m \u001b[1;33m\u001b[0m\u001b[0m\n\u001b[0;32m    894\u001b[0m             \u001b[0mmaybe_callable\u001b[0m \u001b[1;33m=\u001b[0m \u001b[0mcom\u001b[0m\u001b[1;33m.\u001b[0m\u001b[0mapply_if_callable\u001b[0m\u001b[1;33m(\u001b[0m\u001b[0mkey\u001b[0m\u001b[1;33m,\u001b[0m \u001b[0mself\u001b[0m\u001b[1;33m.\u001b[0m\u001b[0mobj\u001b[0m\u001b[1;33m)\u001b[0m\u001b[1;33m\u001b[0m\u001b[1;33m\u001b[0m\u001b[0m\n\u001b[1;32m--> 895\u001b[1;33m             \u001b[1;32mreturn\u001b[0m \u001b[0mself\u001b[0m\u001b[1;33m.\u001b[0m\u001b[0m_getitem_axis\u001b[0m\u001b[1;33m(\u001b[0m\u001b[0mmaybe_callable\u001b[0m\u001b[1;33m,\u001b[0m \u001b[0maxis\u001b[0m\u001b[1;33m=\u001b[0m\u001b[0maxis\u001b[0m\u001b[1;33m)\u001b[0m\u001b[1;33m\u001b[0m\u001b[1;33m\u001b[0m\u001b[0m\n\u001b[0m\u001b[0;32m    896\u001b[0m \u001b[1;33m\u001b[0m\u001b[0m\n\u001b[0;32m    897\u001b[0m     \u001b[1;32mdef\u001b[0m \u001b[0m_is_scalar_access\u001b[0m\u001b[1;33m(\u001b[0m\u001b[0mself\u001b[0m\u001b[1;33m,\u001b[0m \u001b[0mkey\u001b[0m\u001b[1;33m:\u001b[0m \u001b[0mTuple\u001b[0m\u001b[1;33m)\u001b[0m\u001b[1;33m:\u001b[0m\u001b[1;33m\u001b[0m\u001b[1;33m\u001b[0m\u001b[0m\n",
      "\u001b[1;32m~\\anaconda3\\lib\\site-packages\\pandas\\core\\indexing.py\u001b[0m in \u001b[0;36m_getitem_axis\u001b[1;34m(self, key, axis)\u001b[0m\n\u001b[0;32m   1499\u001b[0m \u001b[1;33m\u001b[0m\u001b[0m\n\u001b[0;32m   1500\u001b[0m             \u001b[1;31m# validate the location\u001b[0m\u001b[1;33m\u001b[0m\u001b[1;33m\u001b[0m\u001b[1;33m\u001b[0m\u001b[0m\n\u001b[1;32m-> 1501\u001b[1;33m             \u001b[0mself\u001b[0m\u001b[1;33m.\u001b[0m\u001b[0m_validate_integer\u001b[0m\u001b[1;33m(\u001b[0m\u001b[0mkey\u001b[0m\u001b[1;33m,\u001b[0m \u001b[0maxis\u001b[0m\u001b[1;33m)\u001b[0m\u001b[1;33m\u001b[0m\u001b[1;33m\u001b[0m\u001b[0m\n\u001b[0m\u001b[0;32m   1502\u001b[0m \u001b[1;33m\u001b[0m\u001b[0m\n\u001b[0;32m   1503\u001b[0m             \u001b[1;32mreturn\u001b[0m \u001b[0mself\u001b[0m\u001b[1;33m.\u001b[0m\u001b[0mobj\u001b[0m\u001b[1;33m.\u001b[0m\u001b[0m_ixs\u001b[0m\u001b[1;33m(\u001b[0m\u001b[0mkey\u001b[0m\u001b[1;33m,\u001b[0m \u001b[0maxis\u001b[0m\u001b[1;33m=\u001b[0m\u001b[0maxis\u001b[0m\u001b[1;33m)\u001b[0m\u001b[1;33m\u001b[0m\u001b[1;33m\u001b[0m\u001b[0m\n",
      "\u001b[1;32m~\\anaconda3\\lib\\site-packages\\pandas\\core\\indexing.py\u001b[0m in \u001b[0;36m_validate_integer\u001b[1;34m(self, key, axis)\u001b[0m\n\u001b[0;32m   1442\u001b[0m         \u001b[0mlen_axis\u001b[0m \u001b[1;33m=\u001b[0m \u001b[0mlen\u001b[0m\u001b[1;33m(\u001b[0m\u001b[0mself\u001b[0m\u001b[1;33m.\u001b[0m\u001b[0mobj\u001b[0m\u001b[1;33m.\u001b[0m\u001b[0m_get_axis\u001b[0m\u001b[1;33m(\u001b[0m\u001b[0maxis\u001b[0m\u001b[1;33m)\u001b[0m\u001b[1;33m)\u001b[0m\u001b[1;33m\u001b[0m\u001b[1;33m\u001b[0m\u001b[0m\n\u001b[0;32m   1443\u001b[0m         \u001b[1;32mif\u001b[0m \u001b[0mkey\u001b[0m \u001b[1;33m>=\u001b[0m \u001b[0mlen_axis\u001b[0m \u001b[1;32mor\u001b[0m \u001b[0mkey\u001b[0m \u001b[1;33m<\u001b[0m \u001b[1;33m-\u001b[0m\u001b[0mlen_axis\u001b[0m\u001b[1;33m:\u001b[0m\u001b[1;33m\u001b[0m\u001b[1;33m\u001b[0m\u001b[0m\n\u001b[1;32m-> 1444\u001b[1;33m             \u001b[1;32mraise\u001b[0m \u001b[0mIndexError\u001b[0m\u001b[1;33m(\u001b[0m\u001b[1;34m\"single positional indexer is out-of-bounds\"\u001b[0m\u001b[1;33m)\u001b[0m\u001b[1;33m\u001b[0m\u001b[1;33m\u001b[0m\u001b[0m\n\u001b[0m\u001b[0;32m   1445\u001b[0m \u001b[1;33m\u001b[0m\u001b[0m\n\u001b[0;32m   1446\u001b[0m     \u001b[1;31m# -------------------------------------------------------------------\u001b[0m\u001b[1;33m\u001b[0m\u001b[1;33m\u001b[0m\u001b[1;33m\u001b[0m\u001b[0m\n",
      "\u001b[1;31mIndexError\u001b[0m: single positional indexer is out-of-bounds"
     ]
    }
   ],
   "source": [
    "#find when SOC reaches max value\n",
    "#do not use \n",
    "max_timestamp = df_store.loc[df_store.SOC_t >= 4.99, 'timestamp'].iloc[0]\n",
    "min_timestamp = df_store.loc[df_store.SOC_t <= 1.01, 'timestamp'].iloc[0]\n",
    "print(max_timestamp)\n",
    "print(min_timestamp)\n",
    "time_to_max = pd.date_range(min_timestamp,max_timestamp,freq=str(int(interval/60))+'min')\n",
    "print(time_to_max)\n",
    "delta = max_timestamp - min_timestamp\n",
    "max_to_2max = pd.date_range(max_timestamp,max_timestamp + delta,freq=str(int(interval/60))+'min')\n",
    "print(max_to_2max)\n",
    "time_to_max_prices = df_store[df_store.timestamp.isin(time_to_max)]\n",
    "max_to_2max_prices = df_store[df_store.timestamp.isin(max_to_2max)]\n",
    "time_to_max_prices.RT.mean(), max_to_2max_prices.RT.mean()"
   ]
  },
  {
   "cell_type": "code",
   "execution_count": 41,
   "id": "fd026c5a",
   "metadata": {},
   "outputs": [],
   "source": [
    "def visualize_battery_dispatch(data):\n",
    "    # Visualize battery dispatch over time as well as the market price\n",
    "    fig = plt.figure(figsize=(9,3),dpi=150) \n",
    "    ax = fig.add_subplot(111)\n",
    "    \n",
    "    plot1 = ax.plot(data.timestamp, data.RT, color='xkcd:sky blue', label='RT')\n",
    "    ax.set_xlabel('Time')\n",
    "    ax.set_ylabel('Real-time price (USD/MWh)')\n",
    "    #ax.set_xlim(xmin=data.iloc[0]['timestamp'], xmax=data.iloc[-1]['timestamp']+pd.Timedelta(days=1))\n",
    "    ax.set_xticklabels(ax.get_xticklabels(), fontsize=7)\n",
    "    ax.set_ylim(0.0,150)\n",
    "\n",
    "    ax2 = ax.twinx()\n",
    "    plot2 = ax2.plot(data.timestamp, data.SOC_t, color='orange', label='SOC')\n",
    "    ax2.set_ylabel('State of Charge')\n",
    "    ax2.set_ylim(-4,10)\n",
    "    \n",
    "    \n",
    "    ax3 = ax.twinx()\n",
    "    rspine = ax3.spines['right']\n",
    "    rspine.set_position(('axes', 1.15))\n",
    "    ax3.set_frame_on(True)\n",
    "    ax3.patch.set_visible(False)\n",
    "    fig.subplots_adjust(right=0.7)\n",
    "\n",
    "    plot3 = ax3.plot(data.timestamp, data.dispatch, color='red', label='load')\n",
    "    ax3.set_ylabel('Load Dispatched')\n",
    "    ax3.set_ylim(-8,2)\n",
    "\n",
    "\n",
    "    plots = plot1 + plot2 + plot3\n",
    "    labs = [l.get_label() for l in plots]\n",
    "    L = ax.legend(plots, labs, bbox_to_anchor=(0.5, -0.4), loc='lower center', ncol=len(labs))"
   ]
  },
  {
   "cell_type": "code",
   "execution_count": 42,
   "id": "7e8a1adb",
   "metadata": {
    "scrolled": false
   },
   "outputs": [
    {
     "name": "stderr",
     "output_type": "stream",
     "text": [
      "<ipython-input-41-8a5bc33947e1>:10: UserWarning: FixedFormatter should only be used together with FixedLocator\n",
      "  ax.set_xticklabels(ax.get_xticklabels(), fontsize=7)\n"
     ]
    },
    {
     "data": {
      "image/png": "[encoded data removed]",
      "text/plain": [
       "<Figure size 1350x450 with 3 Axes>"
      ]
     },
     "metadata": {
      "needs_background": "light"
     },
     "output_type": "display_data"
    }
   ],
   "source": [
    "visualize_battery_dispatch(df_store)"
   ]
  },
  {
   "cell_type": "code",
   "execution_count": 22,
   "id": "37c9f09e",
   "metadata": {},
   "outputs": [],
   "source": [
    "# pd.daterange(.rand(), end_whichis_96intervalslater, freq=5)\n",
    "xs = []\n",
    "ys = []\n",
    "for i in range(5000):\n",
    "    begin_index = rd.sample(range(len(market_intervals)), 1)[0]\n",
    "    sample_times = market_intervals[begin_index:begin_index+96]\n",
    "    df_store_sample = df_store[df_store.timestamp.isin(sample_times)]\n",
    "    \n",
    "    ys.append(df_store_sample.iloc[:48].RT.mean() - df_store_sample.iloc[48:].RT.mean())\n",
    "    xs.append(df_store_sample.iloc[:48].dispatch.mean() - df_store_sample.iloc[48:].dispatch.mean())"
   ]
  },
  {
   "cell_type": "code",
   "execution_count": 23,
   "id": "198c6e40",
   "metadata": {},
   "outputs": [
    {
     "data": {
      "text/plain": [
       "<matplotlib.collections.PathCollection at 0x2201b0f7cd0>"
      ]
     },
     "execution_count": 23,
     "metadata": {},
     "output_type": "execute_result"
    },
    {
     "data": {
      "image/png": "[encoded data removed]",
      "text/plain": [
       "<Figure size 432x288 with 1 Axes>"
      ]
     },
     "metadata": {
      "needs_background": "light"
     },
     "output_type": "display_data"
    }
   ],
   "source": [
    "#doesn't dispatch when it is supposed to\n",
    "plt.scatter(xs, ys)"
   ]
  }
 ],
 "metadata": {
  "kernelspec": {
   "display_name": "Python 3",
   "language": "python",
   "name": "python3"
  },
  "language_info": {
   "codemirror_mode": {
    "name": "ipython",
    "version": 3
   },
   "file_extension": ".py",
   "mimetype": "text/x-python",
   "name": "python",
   "nbconvert_exporter": "python",
   "pygments_lexer": "ipython3",
   "version": "3.9.5"
  }
 },
 "nbformat": 4,
 "nbformat_minor": 5
}
